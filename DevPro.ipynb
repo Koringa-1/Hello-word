{
  "nbformat": 4,
  "nbformat_minor": 0,
  "metadata": {
    "colab": {
      "provenance": [],
      "authorship_tag": "ABX9TyN1IYp+5EP/dbdWDuOG6s0x",
      "include_colab_link": true
    },
    "kernelspec": {
      "name": "python3",
      "display_name": "Python 3"
    },
    "language_info": {
      "name": "python"
    }
  },
  "cells": [
    {
      "cell_type": "markdown",
      "metadata": {
        "id": "view-in-github",
        "colab_type": "text"
      },
      "source": [
        "<a href=\"https://colab.research.google.com/github/Koringa-1/Hello-word/blob/main/DevPro.ipynb\" target=\"_parent\"><img src=\"https://colab.research.google.com/assets/colab-badge.svg\" alt=\"Open In Colab\"/></a>"
      ]
    },
    {
      "cell_type": "markdown",
      "source": [
        "PythonPro_Brasil [Exercícios Python](https://wiki.python.org.br/EstruturaSequencial) "
      ],
      "metadata": {
        "id": "kc0Fzi6NARxS"
      }
    },
    {
      "cell_type": "code",
      "source": [
        "#Faça um Programa que mostre a mensagem \"Alo mundo\" na tela.\n",
        "print('olá mundo')"
      ],
      "metadata": {
        "colab": {
          "base_uri": "https://localhost:8080/"
        },
        "id": "nq_TN8oQvx9I",
        "outputId": "85509c8e-de16-4d54-ebb7-f8c7b671f171"
      },
      "execution_count": null,
      "outputs": [
        {
          "output_type": "stream",
          "name": "stdout",
          "text": [
            "olá mundo\n"
          ]
        }
      ]
    },
    {
      "cell_type": "code",
      "source": [
        "#Faça um Programa que peça um número e então mostre a mensagem O número informado foi [número].\n",
        "numero = int(input(' '))\n",
        "print(f'O número digitado foi {numero}')"
      ],
      "metadata": {
        "colab": {
          "base_uri": "https://localhost:8080/"
        },
        "id": "znEp4c7pwP-5",
        "outputId": "2df4cb43-bd21-40da-feff-b2a9fc97fabd"
      },
      "execution_count": null,
      "outputs": [
        {
          "output_type": "stream",
          "name": "stdout",
          "text": [
            " 7\n",
            "O número digitado foi 7\n"
          ]
        }
      ]
    },
    {
      "cell_type": "code",
      "source": [
        "#Faça um Programa que peça dois números e imprima a soma.\n",
        "numero = ('numero_1', 'numero_2')\n",
        "numero_1 = int(input())\n",
        "numero_2 = int(input())\n",
        "soma = numero_1 + numero_2\n",
        "print(f'A soma é {soma}')"
      ],
      "metadata": {
        "colab": {
          "base_uri": "https://localhost:8080/"
        },
        "id": "88q1dOJnyPBJ",
        "outputId": "9f188232-5b4b-431c-b3d3-63225e04d7ee"
      },
      "execution_count": null,
      "outputs": [
        {
          "output_type": "stream",
          "name": "stdout",
          "text": [
            "7\n",
            "3\n",
            "A soma é 10\n"
          ]
        }
      ]
    },
    {
      "cell_type": "code",
      "source": [
        "#Faça um Programa que peça as 4 notas bimestrais e mostre a média.\n",
        "bimestre = ('nota_1', 'nota_2', 'nota_3', 'nota_4')\n",
        "nota_1 =  float(input())\n",
        "nota_2 =  float(input())\n",
        "nota_3 =  float(input())\n",
        "nota_4 =  float(input())\n",
        "media = float(nota_1 + nota_2 + nota_3 + nota_4) / 4\n",
        "print(f'A média é {media}')"
      ],
      "metadata": {
        "colab": {
          "base_uri": "https://localhost:8080/"
        },
        "id": "mVOtxXcS3xUb",
        "outputId": "86c305f5-5016-4c97-b926-48273d4b7a03"
      },
      "execution_count": null,
      "outputs": [
        {
          "output_type": "stream",
          "name": "stdout",
          "text": [
            "7\n",
            "3\n",
            "1\n",
            "9\n",
            "A média é 5.0\n"
          ]
        }
      ]
    },
    {
      "cell_type": "code",
      "source": [
        "#Faça um Programa que converta metros para centímetros.\n",
        "class Metro():\n",
        "  metro =float(input('Quantos metros deseja converter em centímetros? '))\n",
        "  centimetros = (metro ) *100\n",
        "  print(f'{metro} m corresponde a {centimetros} cms')"
      ],
      "metadata": {
        "colab": {
          "base_uri": "https://localhost:8080/"
        },
        "id": "kTN0J6nvE-ki",
        "outputId": "f71e00cd-0508-4837-9ddf-a3fe81502b61"
      },
      "execution_count": null,
      "outputs": [
        {
          "output_type": "stream",
          "name": "stdout",
          "text": [
            "Quantos metros deseja converter em centímetros? 7\n",
            "7.0 m corresponde a 700.0 cms\n"
          ]
        }
      ]
    },
    {
      "cell_type": "code",
      "source": [
        "#Faça um Programa que peça o raio de um círculo, calcule e mostre sua área.\n",
        "class Circulo:\n",
        "  raio = float(input('Qual é o Raio do circulo que deseja calcular? '))\n",
        "  circulo = (raio) *2\n",
        "  \n",
        "  print(f'A área do círculo é: {circulo}')"
      ],
      "metadata": {
        "id": "-RRhR2rrNPCh",
        "colab": {
          "base_uri": "https://localhost:8080/"
        },
        "outputId": "be278abe-a158-4407-ae47-8478d9c85bef"
      },
      "execution_count": null,
      "outputs": [
        {
          "output_type": "stream",
          "name": "stdout",
          "text": [
            "Qual é o Raio do circulo que deseja calcular? 5.5\n",
            "A área do círculo é: 11.0\n"
          ]
        }
      ]
    },
    {
      "cell_type": "code",
      "source": [
        "#Faça um Programa que pergunte quanto você ganha por hora e o número de horas trabalhadas no mês. Calcule e mostre o total do seu salário no referido mês\n",
        "valor_hora = float(input('Valor da Hora? '))\n",
        "h_trabalhadas = float(input('Horas Trabalhadas: '))\n",
        "salario = valor_hora * h_trabalhadas\n",
        "print(f'O salário é: {salario}')\n"
      ],
      "metadata": {
        "colab": {
          "base_uri": "https://localhost:8080/"
        },
        "id": "IGCPRJDhSEyQ",
        "outputId": "99fc6f61-186d-4053-d08a-53391871ef1b"
      },
      "execution_count": null,
      "outputs": [
        {
          "output_type": "stream",
          "name": "stdout",
          "text": [
            "Valor da Hora? 5.50\n",
            "Horas Trabalhadas: 368\n",
            "O salário é: 2024.0\n"
          ]
        }
      ]
    },
    {
      "cell_type": "code",
      "source": [
        "#Faça um Programa que peça a temperatura em graus Fahrenheit, transforme e mostre a temperatura em graus Celsius.\n",
        "f = float(input('Digite a temperatura em graus Fahrenheit: '))\n",
        "fah = float(((f-32) * 5) / 9)\n",
        "c = fah\n",
        "print(f'{f} °F corresponde a {c} °C')\n"
      ],
      "metadata": {
        "id": "6d-gXqvYVVC5",
        "colab": {
          "base_uri": "https://localhost:8080/"
        },
        "outputId": "de8acb0c-f7e4-403d-f73f-128363d48c68"
      },
      "execution_count": null,
      "outputs": [
        {
          "output_type": "stream",
          "name": "stdout",
          "text": [
            "Digite a temperatura em graus Fahrenheit: 7\n",
            "7.0 °F corresponde a -13.88888888888889 °C\n"
          ]
        }
      ]
    },
    {
      "cell_type": "code",
      "source": [
        "#Faça um Programa que peça a temperatura em graus Celsius, transforme e mostre em graus Fahrenheit.\n",
        "c = float(input('Digite a temp. em Célcios: '))\n",
        "cel = float(((c* 9 /5 ) +32))\n",
        "f = cel\n",
        "print(f'{c} ° C corresponde a {f} ° Fah')\n"
      ],
      "metadata": {
        "id": "9vSiK8UpVt_6",
        "colab": {
          "base_uri": "https://localhost:8080/"
        },
        "outputId": "0cf29efe-ced2-4ab0-97fa-5f96b428f64e"
      },
      "execution_count": null,
      "outputs": [
        {
          "output_type": "stream",
          "name": "stdout",
          "text": [
            "Digite a temp. em Célcios: 7\n",
            "7.0 ° C corresponde a 44.6 ° Fah\n"
          ]
        }
      ]
    },
    {
      "cell_type": "code",
      "source": [
        "#''' Faça um Programa que peça 2 números inteiros e um número real. Calcule e mostre:\n",
        "#(A) o produto do dobro do primeiro com metade do segundo (B) a soma do triplo do primeiro com o terceiro. (C) o terceiro elevado ao cubo'''\n",
        "#class Numero:\n",
        "numero_1 = float(input(''))\n",
        "numero_2 = float(input(''))\n",
        "numero_3 = int(input(''))\n",
        "n1 = numero_1 * 2 + (numero_2 /2)\n",
        "n2 = numero_1  *3 + 1E3\n",
        "n3 = numero_3 ** 3\n",
        "print(f'{n1}  e {n2}  e  {n3}')"
      ],
      "metadata": {
        "id": "YaPb1EzAV1Yx",
        "colab": {
          "base_uri": "https://localhost:8080/"
        },
        "outputId": "aeb87ff4-45e1-405d-926a-38269a920edf"
      },
      "execution_count": null,
      "outputs": [
        {
          "output_type": "stream",
          "name": "stdout",
          "text": [
            "777\n",
            "999\n",
            "333\n",
            "2053.5  e 3331.0  e  36926037\n"
          ]
        }
      ]
    },
    {
      "cell_type": "markdown",
      "source": [
        "**Estrutura de Decisão** [Exercícios](https://wiki.python.org.br/EstruturaDeDecisao)\n",
        "\n"
      ],
      "metadata": {
        "id": "58Cof8uOCApz"
      }
    },
    {
      "cell_type": "code",
      "source": [
        "#Faça um Programa que peça dois números e imprima o maior deles.\n",
        "n1 = input('')\n",
        "n2 = input('')\n",
        "if (n1) > (n2):\n",
        "  print('O primeiro número é maior!')\n",
        "elif (n1) == (n2):\n",
        "  print('Os números são iguais!')\n",
        "else:\n",
        "  print('O segundo número é maior!')\n",
        "  "
      ],
      "metadata": {
        "colab": {
          "base_uri": "https://localhost:8080/"
        },
        "id": "_XBjT60zAD2z",
        "outputId": "9b8c9ded-efb4-441e-a8a5-6402548f500a"
      },
      "execution_count": null,
      "outputs": [
        {
          "output_type": "stream",
          "name": "stdout",
          "text": [
            "123\n",
            "777\n",
            "O segundo número é maior!\n"
          ]
        }
      ]
    },
    {
      "cell_type": "code",
      "source": [
        "#Faça um Programa que peça um valor e mostre na tela se o valor é positivo ou negativo.\n",
        "n = int(input(''))\n",
        "if (n % 2) == 0:\n",
        "  print('Número PAR')\n",
        "else:\n",
        "  print('Número ÍMPAR')\n"
      ],
      "metadata": {
        "colab": {
          "base_uri": "https://localhost:8080/"
        },
        "id": "JL2ZN9Y4HmDL",
        "outputId": "84c04861-6787-407a-d8fa-1fd3b863b4fb"
      },
      "execution_count": null,
      "outputs": [
        {
          "output_type": "stream",
          "name": "stdout",
          "text": [
            "7\n",
            "Número ÍMPAR\n"
          ]
        }
      ]
    },
    {
      "cell_type": "code",
      "source": [
        "#Faça um Programa que verifique se uma letra digitada é \"F\" ou \"M\". Conforme a letra escrever: F - Feminino e M - Masculino.......\n",
        "#class Sexo:\n",
        "sexo = input('Digite M para masculino ou F para feminino: ').upper()\n",
        "if sexo == 'M'.upper():\n",
        "  print('Masculino')\n",
        "elif sexo == 'F'.upper():\n",
        "  print('Feminino')\n",
        "elif sexo == 'I'.upper():\n",
        "  print('Indefinido')\n",
        "else:\n",
        "  print('Sexo inválido!')"
      ],
      "metadata": {
        "id": "C01AMoa4Moy8",
        "colab": {
          "base_uri": "https://localhost:8080/"
        },
        "outputId": "521f5016-5fb7-4b14-94b4-7b617b3cc15a"
      },
      "execution_count": null,
      "outputs": [
        {
          "output_type": "stream",
          "name": "stdout",
          "text": [
            "Digite M para masculino ou F para feminino: f\n",
            "Feminino\n"
          ]
        }
      ]
    },
    {
      "cell_type": "code",
      "source": [
        "#Faça um Programa que verifique se uma letra digitada é vogal ou consoante.\n",
        "digito = str (input('Digite uma letra: '))\n",
        "vogal = ('a, e, i, o, u') .lower()\n",
        "cons = ('b, c, d, f, g, h, j, k, l, m, n, p, q, r, s, t, v, w, X, y, z') .lower()\n",
        "if digito == vogal:\n",
        "  print('Vogal')\n",
        "elif digito == cons:\n",
        "  print('Consoante')"
      ],
      "metadata": {
        "id": "5vbVl6VxM5X4"
      },
      "execution_count": null,
      "outputs": []
    },
    {
      "cell_type": "code",
      "source": [
        "#Faça um programa para a leitura de duas notas parciais de um aluno. O programa deve calcular a média alcançada por aluno e apresentar:\n",
        "#A mensagem \"Aprovado\", se a média alcançada for maior ou igual a sete;\n",
        "#A mensagem \"Reprovado\", se a média for menor do que sete;\n",
        "#A mensagem \"Aprovado com Distinção\", se a média for igual a dez.\n",
        "\n",
        "n1 = float(input('Nota 1: '))\n",
        "n2 = float(input('Nota 2: '))\n",
        "media = float(n1 + n2) / 2\n",
        "if media >= 7 <9:\n",
        "  print('Aprovado')\n",
        "elif media < 7:\n",
        "  print('Reprovado')\n",
        "else:\n",
        "  media == 10\n",
        "print('Aprovado com Distinção')"
      ],
      "metadata": {
        "colab": {
          "base_uri": "https://localhost:8080/"
        },
        "id": "76YO-f0QM_px",
        "outputId": "625d86fa-ca2d-4980-af30-81110c2004a8"
      },
      "execution_count": null,
      "outputs": [
        {
          "output_type": "stream",
          "name": "stdout",
          "text": [
            "Nota 1: 10\n",
            "Nota 2: 10\n",
            "Aprovado\n",
            "Aprovado com Distinção\n"
          ]
        }
      ]
    },
    {
      "cell_type": "markdown",
      "source": [
        "Estrutura_de_Repetição [Exercícios](https://wiki.python.org.br/EstruturaDeRepeticao)"
      ],
      "metadata": {
        "id": "DqWNmsOBa5Ir"
      }
    },
    {
      "cell_type": "code",
      "source": [
        "#Faça um programa que peça uma nota, entre zero e dez. \n",
        "#Mostre uma mensagem caso o valor seja inválido e continue pedindo até que o usuário informe um valor válido.\n",
        "while True:\n",
        "    try:\n",
        "        numero = int(input(''))\n",
        "    except ValueError:\n",
        "        print('Deve ser um valor inteiro!')\n",
        "\n",
        "    else:\n",
        "        if 0<= numero <= 10:\n",
        "            print(f'O número informado é : {numero}')\n",
        "            print('FIM DO PROGRAMA')\n",
        "            break\n",
        "        else:\n",
        "            print('O número deve estar entre 1 e 10!')\n"
      ],
      "metadata": {
        "id": "WRFwoGEcbQ7K",
        "colab": {
          "base_uri": "https://localhost:8080/"
        },
        "outputId": "54a76865-5f97-44c5-8967-0e600b4dabf0"
      },
      "execution_count": 29,
      "outputs": [
        {
          "output_type": "stream",
          "name": "stdout",
          "text": [
            "Alex\n",
            "Deve ser um valor inteiro!\n",
            "937\n",
            "O número deve estar entre 1 e 10!\n",
            "7\n",
            "O número informado é : 7\n",
            "FIM DO PROGRAMA\n"
          ]
        }
      ]
    },
    {
      "cell_type": "code",
      "source": [
        "#Faça um Programa que pergunte em que turno você estuda. \n",
        "#Peça para digitar M-matutino ou V-Vespertino ou N- Noturno. Imprima a mensagem \"Bom Dia!\", \"Boa Tarde!\" ou \"Boa Noite!\" ou \"Valor Inválido!\", conforme o caso.\n",
        "while True:\n",
        "    try:\n",
        "        turno = str('') .upper()   \n",
        "    except ValueError:\n",
        "        print('Por Favor digite: M ou V ou N  !!!')\n",
        "\n",
        "aluno = input('Qual turno você estuda? ')    \n",
        "        if turno == ('m') .upper():\n",
        "            print(f'{aluno} Bom Dia!')\n",
        "        elif turno == ('V') .upper():\n",
        "            print(f'{aluno} Boa Tarde')\n",
        "        else:\n",
        "            turno == ('N') .upper()\n",
        "            print(f'{aluno} Boa Noite')\n",
        "            break"
      ],
      "metadata": {
        "colab": {
          "base_uri": "https://localhost:8080/",
          "height": 130
        },
        "id": "dsy3xCJxzYNu",
        "outputId": "f50f5055-e351-49c1-f99e-af811c7463c3"
      },
      "execution_count": 36,
      "outputs": [
        {
          "output_type": "error",
          "ename": "IndentationError",
          "evalue": "ignored",
          "traceback": [
            "\u001b[0;36m  File \u001b[0;32m\"<ipython-input-36-5af87bbf1a52>\"\u001b[0;36m, line \u001b[0;32m10\u001b[0m\n\u001b[0;31m    if turno == ('m') .upper():\u001b[0m\n\u001b[0m    ^\u001b[0m\n\u001b[0;31mIndentationError\u001b[0m\u001b[0;31m:\u001b[0m unexpected indent\n"
          ]
        }
      ]
    },
    {
      "cell_type": "code",
      "source": [
        "#Faça um Programa para um caixa eletrônico. \n",
        "#O programa deverá perguntar ao usuário a valor do saque e depois informar quantas notas de cada valor serão fornecidas. \n",
        "#As notas disponíveis serão as de 1, 5, 10, 50 e 100 reais. O valor mínimo é de 10 reais e o máximo de 600 reais. \n",
        "#O programa não deve se preocupar com a quantidade de notas existentes na máquina.\n",
        "#Exemplo 1: Para sacar a quantia de 256 reais, o programa fornece duas notas de 100, uma nota de 50, uma nota de 5 e uma nota de 1;\n",
        "#Exemplo 2: Para sacar a quantia de 399 reais, o programa fornece três notas de 100, uma nota de 50, quatro notas de 10, uma nota de 5 e quatro notas de 1.\n",
        "class CaixaEletronico:\n",
        "    print('Notas Disponíveis! $ 20, 50, 100, 200')\n",
        "    saque = float(input('Valor do saque: '))\n",
        "    \n",
        "    valor_saque = saque\n",
        "    saque_min = (20)\n",
        "    saque_max = (1000)\n",
        "    quant_notas = Notas\n",
        "    print(f'{quant_notas}')\n",
        "    notas = nota\n",
        "    nota_20 = 20\n",
        "    nota_50 = 50\n",
        "    nota_100 = 100\n",
        "    nota_200 = 200\n",
        "for nota in notas:\n",
        "    if saque < 20:\n",
        "        print('Valor mínimo 20 $')\n",
        "    elif saque >1000:\n",
        "        print('Valor máximo 1000 $')\n",
        "    else:\n",
        "        print(f'{notas} , {saque}')       \n",
        "\n"
      ],
      "metadata": {
        "colab": {
          "base_uri": "https://localhost:8080/",
          "height": 408
        },
        "id": "x9veawfcJ1fn",
        "outputId": "98587f12-025e-4d27-d0d8-020c0e30c5f8"
      },
      "execution_count": 65,
      "outputs": [
        {
          "name": "stdout",
          "output_type": "stream",
          "text": [
            "Notas Disponíveis! $ 20, 50, 100, 200\n",
            "Valor do saque: 1000\n"
          ]
        },
        {
          "output_type": "error",
          "ename": "NameError",
          "evalue": "ignored",
          "traceback": [
            "\u001b[0;31m---------------------------------------------------------------------------\u001b[0m",
            "\u001b[0;31mNameError\u001b[0m                                 Traceback (most recent call last)",
            "\u001b[0;32m<ipython-input-65-5be7519258d1>\u001b[0m in \u001b[0;36m<module>\u001b[0;34m\u001b[0m\n\u001b[1;32m      5\u001b[0m \u001b[0;31m#Exemplo 1: Para sacar a quantia de 256 reais, o programa fornece duas notas de 100, uma nota de 50, uma nota de 5 e uma nota de 1;\u001b[0m\u001b[0;34m\u001b[0m\u001b[0;34m\u001b[0m\u001b[0;34m\u001b[0m\u001b[0m\n\u001b[1;32m      6\u001b[0m \u001b[0;31m#Exemplo 2: Para sacar a quantia de 399 reais, o programa fornece três notas de 100, uma nota de 50, quatro notas de 10, uma nota de 5 e quatro notas de 1.\u001b[0m\u001b[0;34m\u001b[0m\u001b[0;34m\u001b[0m\u001b[0;34m\u001b[0m\u001b[0m\n\u001b[0;32m----> 7\u001b[0;31m \u001b[0;32mclass\u001b[0m \u001b[0mCaixaEletronico\u001b[0m\u001b[0;34m:\u001b[0m\u001b[0;34m\u001b[0m\u001b[0;34m\u001b[0m\u001b[0m\n\u001b[0m\u001b[1;32m      8\u001b[0m     \u001b[0mprint\u001b[0m\u001b[0;34m(\u001b[0m\u001b[0;34m'Notas Disponíveis! $ 20, 50, 100, 200'\u001b[0m\u001b[0;34m)\u001b[0m\u001b[0;34m\u001b[0m\u001b[0;34m\u001b[0m\u001b[0m\n\u001b[1;32m      9\u001b[0m     \u001b[0msaque\u001b[0m \u001b[0;34m=\u001b[0m \u001b[0mfloat\u001b[0m\u001b[0;34m(\u001b[0m\u001b[0minput\u001b[0m\u001b[0;34m(\u001b[0m\u001b[0;34m'Valor do saque: '\u001b[0m\u001b[0;34m)\u001b[0m\u001b[0;34m)\u001b[0m\u001b[0;34m\u001b[0m\u001b[0;34m\u001b[0m\u001b[0m\n",
            "\u001b[0;32m<ipython-input-65-5be7519258d1>\u001b[0m in \u001b[0;36mCaixaEletronico\u001b[0;34m()\u001b[0m\n\u001b[1;32m     12\u001b[0m     \u001b[0msaque_min\u001b[0m \u001b[0;34m=\u001b[0m \u001b[0;34m(\u001b[0m\u001b[0;36m20\u001b[0m\u001b[0;34m)\u001b[0m\u001b[0;34m\u001b[0m\u001b[0;34m\u001b[0m\u001b[0m\n\u001b[1;32m     13\u001b[0m     \u001b[0msaque_max\u001b[0m \u001b[0;34m=\u001b[0m \u001b[0;34m(\u001b[0m\u001b[0;36m1000\u001b[0m\u001b[0;34m)\u001b[0m\u001b[0;34m\u001b[0m\u001b[0;34m\u001b[0m\u001b[0m\n\u001b[0;32m---> 14\u001b[0;31m     \u001b[0mquant_notas\u001b[0m \u001b[0;34m=\u001b[0m \u001b[0mNotas\u001b[0m\u001b[0;34m\u001b[0m\u001b[0;34m\u001b[0m\u001b[0m\n\u001b[0m\u001b[1;32m     15\u001b[0m     \u001b[0mprint\u001b[0m\u001b[0;34m(\u001b[0m\u001b[0;34mf'{quant_notas}'\u001b[0m\u001b[0;34m)\u001b[0m\u001b[0;34m\u001b[0m\u001b[0;34m\u001b[0m\u001b[0m\n\u001b[1;32m     16\u001b[0m     \u001b[0mnotas\u001b[0m \u001b[0;34m=\u001b[0m \u001b[0mnota\u001b[0m\u001b[0;34m\u001b[0m\u001b[0;34m\u001b[0m\u001b[0m\n",
            "\u001b[0;31mNameError\u001b[0m: name 'Notas' is not defined"
          ]
        }
      ]
    },
    {
      "cell_type": "markdown",
      "source": [
        "Estrutura_de_Listas [Exercícios](https://wiki.python.org.br/ExerciciosListas)"
      ],
      "metadata": {
        "id": "OhoH9hyrcQ_8"
      }
    },
    {
      "cell_type": "code",
      "source": [
        "#Faça um Programa que leia um vetor de 5 números inteiros e mostre-os.\n",
        "lista = []\n",
        "for _ in range (5):\n",
        "    numero = float(input('Digite um número: '))\n",
        "    lista.append(numero)\n",
        "print(lista)\n"
      ],
      "metadata": {
        "id": "Ejpv-Dg4dE5v",
        "colab": {
          "base_uri": "https://localhost:8080/"
        },
        "outputId": "d2404af4-6d0a-4918-ff6c-e4aea6fad770"
      },
      "execution_count": 30,
      "outputs": [
        {
          "output_type": "stream",
          "name": "stdout",
          "text": [
            "Digite um número: 5\n",
            "Digite um número: 6\n",
            "Digite um número: 3\n",
            "Digite um número: 7\n",
            "Digite um número: 6\n",
            "[5.0, 6.0, 3.0, 7.0, 6.0]\n"
          ]
        }
      ]
    },
    {
      "cell_type": "markdown",
      "source": [
        "[Exercícios_Funções ](https://wiki.python.org.br/ExerciciosFuncoes)"
      ],
      "metadata": {
        "id": "bRqZ0W9fdSVx"
      }
    },
    {
      "cell_type": "code",
      "source": [
        "#Faça um programa para imprimir:\n",
        "#    1\n",
        "#    2   2\n",
        "#    3   3   3\n",
        "#    .....\n",
        "#    n   n   n   n   n   n  ... n\n",
        "#para um n informado pelo usuário. Use uma função que receba um valor n inteiro e imprima até a n-ésima linha."
      ],
      "metadata": {
        "id": "LYHGFfCAfBGM"
      },
      "execution_count": null,
      "outputs": []
    },
    {
      "cell_type": "markdown",
      "source": [
        "[Exercícios_com_Strings](https://wiki.python.org.br/ExerciciosComStrings)"
      ],
      "metadata": {
        "id": "Q6o92yWYfpSA"
      }
    },
    {
      "cell_type": "code",
      "source": [
        "#Tamanho de strings. Faça um programa que leia 2 strings e informe o conteúdo delas seguido do seu comprimento. \n",
        "#Informe também se as duas strings possuem o mesmo comprimento e são iguais ou diferentes no conteúdo.\n",
        "#Compara duas strings\n",
        "#String 1: Brasil Hexa 2006\n",
        "#String 2: Brasil! Hexa 2006!\n",
        "#Tamanho de \"Brasil Hexa 2006\": 16 caracteres\n",
        "#Tamanho de \"Brasil! Hexa 2006!\": 18 caracteres\n",
        "#As duas strings são de tamanhos diferentes.\n",
        "#As duas strings possuem conteúdo diferente."
      ],
      "metadata": {
        "id": "E-iT-bIwgKGq"
      },
      "execution_count": null,
      "outputs": []
    },
    {
      "cell_type": "markdown",
      "source": [
        "[Exercícios_com_Arquivos](https://wiki.python.org.br/ExerciciosArquivos)"
      ],
      "metadata": {
        "id": "avVrqom-g9aj"
      }
    },
    {
      "cell_type": "code",
      "source": [
        "#"
      ],
      "metadata": {
        "id": "97mdKX0aijKx"
      },
      "execution_count": null,
      "outputs": []
    }
  ]
}